{
 "cells": [
  {
   "cell_type": "code",
   "execution_count": 7,
   "id": "c5532d34",
   "metadata": {},
   "outputs": [],
   "source": [
    "import pandas as pd\n",
    "import matplotlib.pyplot as plt\n",
    "import numpy as np"
   ]
  },
  {
   "cell_type": "code",
   "execution_count": 8,
   "id": "dd86a52a",
   "metadata": {
    "scrolled": true
   },
   "outputs": [],
   "source": [
    "df = pd.read_csv(\"Общепит Москва.csv\", sep = \";\")"
   ]
  },
  {
   "cell_type": "code",
   "execution_count": 9,
   "id": "12d21bbb",
   "metadata": {},
   "outputs": [
    {
     "name": "stdout",
     "output_type": "stream",
     "text": [
      "<class 'pandas.core.frame.DataFrame'>\n",
      "RangeIndex: 17735 entries, 0 to 17734\n",
      "Data columns (total 29 columns):\n",
      " #   Column               Non-Null Count  Dtype \n",
      "---  ------               --------------  ----- \n",
      " 0   ID                   17735 non-null  object\n",
      " 1   Name                 17735 non-null  object\n",
      " 2   global_id            17735 non-null  object\n",
      " 3   IsNetObject          17735 non-null  object\n",
      " 4   OperatingCompany     3484 non-null   object\n",
      " 5   TypeObject           17735 non-null  object\n",
      " 6   AdmArea              17735 non-null  object\n",
      " 7   District             17735 non-null  object\n",
      " 8   Address              17735 non-null  object\n",
      " 9   PublicPhone          17633 non-null  object\n",
      " 10  SeatsCount           17735 non-null  object\n",
      " 11  SocialPrivileges     17735 non-null  object\n",
      " 12  Longitude_WGS84      17735 non-null  object\n",
      " 13  Latitude_WGS84       17735 non-null  object\n",
      " 14  ID_en                1 non-null      object\n",
      " 15  Name_en              1 non-null      object\n",
      " 16  IsNetObject_en       1 non-null      object\n",
      " 17  OperatingCompany_en  1 non-null      object\n",
      " 18  TypeObject_en        1 non-null      object\n",
      " 19  AdmArea_en           1 non-null      object\n",
      " 20  District_en          1 non-null      object\n",
      " 21  Address_en           1 non-null      object\n",
      " 22  PublicPhone_en       1 non-null      object\n",
      " 23  SeatsCount_en        1 non-null      object\n",
      " 24  SocialPrivileges_en  1 non-null      object\n",
      " 25  Longitude_WGS84_en   1 non-null      object\n",
      " 26  Latitude_WGS84_en    1 non-null      object\n",
      " 27  geodata_center       15656 non-null  object\n",
      " 28  geoarea              1 non-null      object\n",
      "dtypes: object(29)\n",
      "memory usage: 3.9+ MB\n"
     ]
    }
   ],
   "source": [
    "df.info()"
   ]
  },
  {
   "cell_type": "code",
   "execution_count": 10,
   "id": "6a1d9095",
   "metadata": {},
   "outputs": [
    {
     "name": "stdout",
     "output_type": "stream",
     "text": [
      "           ID                                               Name IsNetObject  \\\n",
      "1    00151635                                            СМЕТАНА         нет   \n",
      "2   000077874                                             Родник         нет   \n",
      "3   000024309                                    Кафе «Академия»         нет   \n",
      "4   000027429  ГБОУ «Школа № 1430 имени Героя Социалистическо...         нет   \n",
      "5    00148815                                           Брусника          да   \n",
      "6   000020957                                        Буфет МТУСИ         нет   \n",
      "7   000028858                                     Столовая МТУСИ         нет   \n",
      "8   000023394                                       Кафе Гогиели         нет   \n",
      "9   000022579                                         Алло Пицца          да   \n",
      "10  000023670                                    ГБОУ ШКОЛА 1542         нет   \n",
      "11  000023663                                    ГБОУ Школа 1542         нет   \n",
      "13  000058565                                             Тануки          да   \n",
      "14   00153644                                        I love cake         нет   \n",
      "15  000021950                                                Бар         нет   \n",
      "16  000028751                            ГБОУ Школа № 1411 (970)         нет   \n",
      "17   00125608                                          Кафетерий         нет   \n",
      "18  000029223  СТОЛОВАЯ ПРИ ГУП ОБЪЕДИНЕННЫЙ КОМБИНАТ ШКОЛЬНО...         нет   \n",
      "19  000027439                                         ШКОЛА 1444         нет   \n",
      "20  000022767                                             Мархал         нет   \n",
      "21  000024387                                             Готика          да   \n",
      "\n",
      "   OperatingCompany TypeObject                                  AdmArea  \\\n",
      "1               NaN       кафе  Северо-Восточный административный округ   \n",
      "2               NaN       кафе       Центральный административный округ   \n",
      "3               NaN   ресторан       Центральный административный округ   \n",
      "4               NaN   столовая  Северо-Восточный административный округ   \n",
      "5          Брусника       кафе       Центральный административный округ   \n",
      "6               NaN   столовая     Юго-Восточный административный округ   \n",
      "7               NaN   столовая     Юго-Восточный административный округ   \n",
      "8               NaN       кафе     Юго-Восточный административный округ   \n",
      "9        Алло Пицца       кафе          Западный административный округ   \n",
      "10              NaN   столовая          Западный административный округ   \n",
      "11              NaN   столовая          Западный административный округ   \n",
      "13           Тануки   ресторан          Северный административный округ   \n",
      "14              NaN       кафе       Центральный административный округ   \n",
      "15              NaN       кафе         Восточный административный округ   \n",
      "16              NaN   столовая  Северо-Восточный административный округ   \n",
      "17              NaN  кафетерий  Северо-Восточный административный округ   \n",
      "18              NaN   столовая  Северо-Восточный административный округ   \n",
      "19              NaN   столовая  Северо-Восточный административный округ   \n",
      "20              NaN       кафе          Северный административный округ   \n",
      "21           Готика   ресторан          Северный административный округ   \n",
      "\n",
      "                   District  \\\n",
      "1         Ярославский район   \n",
      "2           Таганский район   \n",
      "3           Таганский район   \n",
      "4           район Лианозово   \n",
      "5               район Арбат   \n",
      "6           район Лефортово   \n",
      "7           район Лефортово   \n",
      "8           район Лефортово   \n",
      "9            район Солнцево   \n",
      "10           район Солнцево   \n",
      "11           район Солнцево   \n",
      "13            район Коптево   \n",
      "14              район Арбат   \n",
      "15          район Гольяново   \n",
      "16           район Отрадное   \n",
      "17       Алтуфьевский район   \n",
      "18           район Свиблово   \n",
      "19   Лосиноостровский район   \n",
      "20  район Западное Дегунино   \n",
      "21        Дмитровский район   \n",
      "\n",
      "                                              Address  \\\n",
      "1          город Москва, улица Егора Абакумова, дом 9   \n",
      "2   город Москва, улица Талалихина, дом 2/1, корпус 1   \n",
      "3   Российская Федерация, город Москва, внутригоро...   \n",
      "4               город Москва, Угличская улица, дом 17   \n",
      "5       город Москва, переулок Сивцев Вражек, дом 6/2   \n",
      "6   город Москва, Авиамоторная улица, дом 8, строе...   \n",
      "7   город Москва, Авиамоторная улица, дом 8, строе...   \n",
      "8          город Москва, Авиамоторная улица, дом 49/1   \n",
      "9   Российская Федерация, город Москва, внутригоро...   \n",
      "10         город Москва, улица Щорса, дом 6, корпус 1   \n",
      "11     город Москва, улица Авиаторов, дом 8, корпус 2   \n",
      "13  город Москва, Большая Академическая улица, дом 65   \n",
      "14      город Москва, Филипповский переулок, дом 15/5   \n",
      "15  Российская Федерация, город Москва, внутригоро...   \n",
      "16          город Москва, Алтуфьевское шоссе, дом 42Б   \n",
      "17           город Москва, Алтуфьевское шоссе, дом 56   \n",
      "18              город Москва, улица Амундсена, дом 10   \n",
      "19            город Москва, Анадырский проезд, дом 55   \n",
      "20     город Москва, Ангарская улица, дом 1, корпус 2   \n",
      "21              город Москва, Ангарская улица, дом 39   \n",
      "\n",
      "                        PublicPhone SeatsCount SocialPrivileges  \n",
      "1   PublicPhone:(499) 183-14-10\\n\\n         48              нет  \n",
      "2   PublicPhone:(495) 676-55-35\\n\\n         35              нет  \n",
      "3   PublicPhone:(495) 662-30-10\\n\\n         95              нет  \n",
      "4   PublicPhone:(499) 908-06-15\\n\\n        240              нет  \n",
      "5   PublicPhone:(495) 697-04-89\\n\\n         10              нет  \n",
      "6   PublicPhone:(495) 673-89-78\\n\\n         90              нет  \n",
      "7   PublicPhone:(495) 273-89-78\\n\\n        120              нет  \n",
      "8   PublicPhone:(495) 361-38-50\\n\\n         24              нет  \n",
      "9   PublicPhone:(495) 934-31-00\\n\\n         32              нет  \n",
      "10  PublicPhone:(495) 934-12-35\\n\\n         60              нет  \n",
      "11  PublicPhone:(495) 934-87-32\\n\\n         60              нет  \n",
      "13  PublicPhone:(499) 153-81-44\\n\\n        160              нет  \n",
      "14  PublicPhone:(985) 226-02-38\\n\\n         20              нет  \n",
      "15  PublicPhone:(495) 466-19-29\\n\\n          8              нет  \n",
      "16  PublicPhone:(499) 903-55-08\\n\\n        120               да  \n",
      "17  PublicPhone:(495) 707-04-39\\n\\n          6              нет  \n",
      "18  PublicPhone:(499) 189-38-39\\n\\n        192               да  \n",
      "19  PublicPhone:(495) 474-73-33\\n\\n        240               да  \n",
      "20  PublicPhone:(499) 906-00-59\\n\\n        120              нет  \n",
      "21  PublicPhone:(495) 483-11-50\\n\\n         65               да  \n",
      "<class 'pandas.core.frame.DataFrame'>\n",
      "Int64Index: 14647 entries, 1 to 17734\n",
      "Data columns (total 11 columns):\n",
      " #   Column            Non-Null Count  Dtype \n",
      "---  ------            --------------  ----- \n",
      " 0   ID                14647 non-null  object\n",
      " 1   Name              14647 non-null  object\n",
      " 2   IsNetObject       14647 non-null  object\n",
      " 3   OperatingCompany  2940 non-null   object\n",
      " 4   TypeObject        14647 non-null  object\n",
      " 5   AdmArea           14647 non-null  object\n",
      " 6   District          14647 non-null  object\n",
      " 7   Address           14647 non-null  object\n",
      " 8   PublicPhone       14577 non-null  object\n",
      " 9   SeatsCount        14647 non-null  object\n",
      " 10  SocialPrivileges  14647 non-null  object\n",
      "dtypes: object(11)\n",
      "memory usage: 1.3+ MB\n",
      "None\n"
     ]
    }
   ],
   "source": [
    "df = df.drop(['global_id', 'Longitude_WGS84', 'Latitude_WGS84', 'ID_en', 'Name_en', 'IsNetObject_en', 'OperatingCompany_en',\n",
    "              'TypeObject_en', 'AdmArea_en', 'District_en', 'Address_en', 'PublicPhone_en', 'SeatsCount_en', 'SocialPrivileges_en',\n",
    "              'Longitude_WGS84_en', 'Latitude_WGS84_en', 'geodata_center', 'geoarea'], axis = 1)\n",
    "df = df.drop(index = 0)\n",
    "df = df[df['SeatsCount'] != \"0\"]\n",
    "df = df[df['IsNetObject'] != \"\"]\n",
    "df = df[df['TypeObject'] != \"\"]\n",
    "df = df[df['SocialPrivileges'] != \"\" ]\n",
    "print(df.head(20))\n",
    "print(df.info())"
   ]
  },
  {
   "cell_type": "code",
   "execution_count": 11,
   "id": "853a5e80",
   "metadata": {},
   "outputs": [
    {
     "name": "stdout",
     "output_type": "stream",
     "text": [
      "[1, 3, 5, 10, -2]\n",
      "[11, 13, 15, 20, 8]\n",
      "[ 1  3  5 10 -2]\n",
      "[11 13 15 20  8]\n",
      "[13, 15, 20]\n",
      "\n",
      "[False  True  True  True False]\n",
      "[13 15 20]\n"
     ]
    }
   ],
   "source": [
    "b = [1, 3, 5, 10, -2]\n",
    "a = np.array(b)\n",
    "print(b)\n",
    "for i in range(len(b)):\n",
    "    b[i] += 10\n",
    "print(b)\n",
    "\n",
    "print(a)\n",
    "a += 10\n",
    "print(a)\n",
    "c = []\n",
    "for i in range(len(b)):\n",
    "    if b[i] > 12:\n",
    "        c += [b[i]]\n",
    "print(c)\n",
    "print()\n",
    "print(a>12)\n",
    "print(a[a>12])"
   ]
  },
  {
   "cell_type": "code",
   "execution_count": 12,
   "id": "7bded8c9",
   "metadata": {},
   "outputs": [],
   "source": [
    "df['SeatsCount'] = df['SeatsCount'].astype(int)"
   ]
  },
  {
   "cell_type": "code",
   "execution_count": 13,
   "id": "1b019acc",
   "metadata": {},
   "outputs": [
    {
     "data": {
      "text/plain": [
       "count     14647\n",
       "unique        2\n",
       "top         нет\n",
       "freq      14392\n",
       "Name: SocialPrivileges, dtype: object"
      ]
     },
     "execution_count": 13,
     "metadata": {},
     "output_type": "execute_result"
    }
   ],
   "source": [
    "df.SocialPrivileges.describe()\n",
    "#Можно сделать вывод, что социальных льгот в большинстве общепитов города Москва нет"
   ]
  },
  {
   "cell_type": "code",
   "execution_count": 14,
   "id": "8c605779",
   "metadata": {},
   "outputs": [
    {
     "data": {
      "text/plain": [
       "count     14647\n",
       "unique        2\n",
       "top         нет\n",
       "freq      11707\n",
       "Name: IsNetObject, dtype: object"
      ]
     },
     "execution_count": 14,
     "metadata": {},
     "output_type": "execute_result"
    }
   ],
   "source": [
    "df.IsNetObject.describe()\n",
    "#Также можно заметить, что в основном на улицах москвы преобладают не \n",
    "#сетевые заведения общепита"
   ]
  },
  {
   "cell_type": "code",
   "execution_count": 15,
   "id": "342c23e4",
   "metadata": {
    "scrolled": true
   },
   "outputs": [
    {
     "name": "stdout",
     "output_type": "stream",
     "text": [
      "('да',               ID                                               Name  \\\n",
      "16     000028751                            ГБОУ Школа № 1411 (970)   \n",
      "18     000029223  СТОЛОВАЯ ПРИ ГУП ОБЪЕДИНЕННЫЙ КОМБИНАТ ШКОЛЬНО...   \n",
      "19     000027439                                         ШКОЛА 1444   \n",
      "21     000024387                                             Готика   \n",
      "57     000028754                            ГБОУ Школа № 1411 (267)   \n",
      "...          ...                                                ...   \n",
      "10008   00273796                                       Свадьба соек   \n",
      "10012   00273804                                             Космос   \n",
      "11611  000025446                                           Андерсон   \n",
      "13397  000022908                                         Local cafe   \n",
      "13902   00309389                                 Пивной бар Карасик   \n",
      "\n",
      "      IsNetObject OperatingCompany TypeObject  \\\n",
      "16            нет              NaN   столовая   \n",
      "18            нет              NaN   столовая   \n",
      "19            нет              NaN   столовая   \n",
      "21             да           Готика   ресторан   \n",
      "57            нет              NaN   столовая   \n",
      "...           ...              ...        ...   \n",
      "10008         нет              NaN       кафе   \n",
      "10012         нет              NaN       кафе   \n",
      "11611          да         Андерсон       кафе   \n",
      "13397         нет              NaN       кафе   \n",
      "13902         нет              NaN        бар   \n",
      "\n",
      "                                       AdmArea                District  \\\n",
      "16     Северо-Восточный административный округ          район Отрадное   \n",
      "18     Северо-Восточный административный округ          район Свиблово   \n",
      "19     Северо-Восточный административный округ  Лосиноостровский район   \n",
      "21             Северный административный округ       Дмитровский район   \n",
      "57     Северо-Восточный административный округ          район Отрадное   \n",
      "...                                        ...                     ...   \n",
      "10008  Северо-Восточный административный округ      Останкинский район   \n",
      "10012  Северо-Восточный административный округ      Останкинский район   \n",
      "11611       Центральный административный округ         Мещанский район   \n",
      "13397  Северо-Восточный административный округ      Алтуфьевский район   \n",
      "13902       Центральный административный округ         район Хамовники   \n",
      "\n",
      "                                                 Address  \\\n",
      "16             город Москва, Алтуфьевское шоссе, дом 42Б   \n",
      "18                 город Москва, улица Амундсена, дом 10   \n",
      "19               город Москва, Анадырский проезд, дом 55   \n",
      "21                 город Москва, Ангарская улица, дом 39   \n",
      "57                город Москва, улица Бестужевых, дом 23   \n",
      "...                                                  ...   \n",
      "10008  город Москва, проспект Мира, дом 119, строение...   \n",
      "10012  город Москва, проспект Мира, дом 119, строение 34   \n",
      "11611  город Москва, улица Гиляровского, дом 39, стро...   \n",
      "13397  Российская Федерация, город Москва, внутригоро...   \n",
      "13902              город Москва, улица Плющиха, дом 20/2   \n",
      "\n",
      "                           PublicPhone  SeatsCount SocialPrivileges  \n",
      "16     PublicPhone:(499) 903-55-08\\n\\n         120               да  \n",
      "18     PublicPhone:(499) 189-38-39\\n\\n         192               да  \n",
      "19     PublicPhone:(495) 474-73-33\\n\\n         240               да  \n",
      "21     PublicPhone:(495) 483-11-50\\n\\n          65               да  \n",
      "57     PublicPhone:(499) 404-15-09\\n\\n         120               да  \n",
      "...                                ...         ...              ...  \n",
      "10008  PublicPhone:(495) 117-82-97\\n\\n          40               да  \n",
      "10012  PublicPhone:(926) 734-80-99\\n\\n          88               да  \n",
      "11611  PublicPhone:(890) 995-47-73\\n\\n          90               да  \n",
      "13397  PublicPhone:(499) 902-51-00\\n\\n          30               да  \n",
      "13902     PublicPhone:нет телефона\\n\\n          60               да  \n",
      "\n",
      "[255 rows x 11 columns])\n",
      "('нет',               ID                                               Name  \\\n",
      "1       00151635                                            СМЕТАНА   \n",
      "2      000077874                                             Родник   \n",
      "3      000024309                                    Кафе «Академия»   \n",
      "4      000027429  ГБОУ «Школа № 1430 имени Героя Социалистическо...   \n",
      "5       00148815                                           Брусника   \n",
      "...          ...                                                ...   \n",
      "17729   00344095                                          Генацвале   \n",
      "17731   00344162                                         Папа Джонс   \n",
      "17732   00344252                                        Кафе Пронто   \n",
      "17733   00302175                                         Додо Пицца   \n",
      "17734   00344831                                        Шоколадница   \n",
      "\n",
      "      IsNetObject OperatingCompany                         TypeObject  \\\n",
      "1             нет              NaN                               кафе   \n",
      "2             нет              NaN                               кафе   \n",
      "3             нет              NaN                           ресторан   \n",
      "4             нет              NaN                           столовая   \n",
      "5              да         Брусника                               кафе   \n",
      "...           ...              ...                                ...   \n",
      "17729          да        ГЕНАЦВАЛИ                           ресторан   \n",
      "17731          да       Папа Джонс  предприятие быстрого обслуживания   \n",
      "17732          да      Кафе Пронто                               кафе   \n",
      "17733          да       Додо Пицца                               кафе   \n",
      "17734          да      Шоколадница                           ресторан   \n",
      "\n",
      "                                       AdmArea                   District  \\\n",
      "1      Северо-Восточный административный округ          Ярославский район   \n",
      "2           Центральный административный округ            Таганский район   \n",
      "3           Центральный административный округ            Таганский район   \n",
      "4      Северо-Восточный административный округ            район Лианозово   \n",
      "5           Центральный административный округ                район Арбат   \n",
      "...                                        ...                        ...   \n",
      "17729         Восточный административный округ               район Перово   \n",
      "17731  Северо-Восточный административный округ            район Лианозово   \n",
      "17732             Южный административный округ    район Нагатинский Затон   \n",
      "17733         Восточный административный округ           район Сокольники   \n",
      "17734  Северо-Восточный административный округ  район Северное Медведково   \n",
      "\n",
      "                                                 Address  \\\n",
      "1             город Москва, улица Егора Абакумова, дом 9   \n",
      "2      город Москва, улица Талалихина, дом 2/1, корпус 1   \n",
      "3      Российская Федерация, город Москва, внутригоро...   \n",
      "4                  город Москва, Угличская улица, дом 17   \n",
      "5          город Москва, переулок Сивцев Вражек, дом 6/2   \n",
      "...                                                  ...   \n",
      "17729  Российская Федерация, город Москва, внутригоро...   \n",
      "17731  Российская Федерация, город Москва, внутригоро...   \n",
      "17732               город Москва, улица Новинки, дом 12Б   \n",
      "17733        город Москва, Сокольническая площадь, дом 9   \n",
      "17734               город Москва, Широкая улица, дом 13А   \n",
      "\n",
      "                           PublicPhone  SeatsCount SocialPrivileges  \n",
      "1      PublicPhone:(499) 183-14-10\\n\\n          48              нет  \n",
      "2      PublicPhone:(495) 676-55-35\\n\\n          35              нет  \n",
      "3      PublicPhone:(495) 662-30-10\\n\\n          95              нет  \n",
      "4      PublicPhone:(499) 908-06-15\\n\\n         240              нет  \n",
      "5      PublicPhone:(495) 697-04-89\\n\\n          10              нет  \n",
      "...                                ...         ...              ...  \n",
      "17729  PublicPhone:(915) 413-89-41\\n\\n          93              нет  \n",
      "17731  PublicPhone:(495) 775-07-94\\n\\n           9              нет  \n",
      "17732  PublicPhone:(495) 505-57-57\\n\\n         188              нет  \n",
      "17733  PublicPhone:(800) 333-00-60\\n\\n          30              нет  \n",
      "17734     PublicPhone:нет телефона\\n\\n          52              нет  \n",
      "\n",
      "[14392 rows x 11 columns])\n"
     ]
    }
   ],
   "source": [
    "for i in df.groupby('SocialPrivileges'):\n",
    "    print(i)"
   ]
  },
  {
   "cell_type": "code",
   "execution_count": 16,
   "id": "f3e48e88",
   "metadata": {},
   "outputs": [
    {
     "data": {
      "text/html": [
       "<div>\n",
       "<style scoped>\n",
       "    .dataframe tbody tr th:only-of-type {\n",
       "        vertical-align: middle;\n",
       "    }\n",
       "\n",
       "    .dataframe tbody tr th {\n",
       "        vertical-align: top;\n",
       "    }\n",
       "\n",
       "    .dataframe thead th {\n",
       "        text-align: right;\n",
       "    }\n",
       "</style>\n",
       "<table border=\"1\" class=\"dataframe\">\n",
       "  <thead>\n",
       "    <tr style=\"text-align: right;\">\n",
       "      <th></th>\n",
       "      <th>SocialPrivileges</th>\n",
       "    </tr>\n",
       "    <tr>\n",
       "      <th>TypeObject</th>\n",
       "      <th></th>\n",
       "    </tr>\n",
       "  </thead>\n",
       "  <tbody>\n",
       "    <tr>\n",
       "      <th>магазин (отдел кулинарии)</th>\n",
       "      <td>0</td>\n",
       "    </tr>\n",
       "    <tr>\n",
       "      <th>предприятие быстрого обслуживания</th>\n",
       "      <td>0</td>\n",
       "    </tr>\n",
       "    <tr>\n",
       "      <th>бар</th>\n",
       "      <td>1</td>\n",
       "    </tr>\n",
       "    <tr>\n",
       "      <th>закусочная</th>\n",
       "      <td>1</td>\n",
       "    </tr>\n",
       "    <tr>\n",
       "      <th>кафетерий</th>\n",
       "      <td>2</td>\n",
       "    </tr>\n",
       "    <tr>\n",
       "      <th>ресторан</th>\n",
       "      <td>4</td>\n",
       "    </tr>\n",
       "    <tr>\n",
       "      <th>кафе</th>\n",
       "      <td>17</td>\n",
       "    </tr>\n",
       "    <tr>\n",
       "      <th>буфет</th>\n",
       "      <td>19</td>\n",
       "    </tr>\n",
       "    <tr>\n",
       "      <th>столовая</th>\n",
       "      <td>211</td>\n",
       "    </tr>\n",
       "  </tbody>\n",
       "</table>\n",
       "</div>"
      ],
      "text/plain": [
       "                                   SocialPrivileges\n",
       "TypeObject                                         \n",
       "магазин (отдел кулинарии)                         0\n",
       "предприятие быстрого обслуживания                 0\n",
       "бар                                               1\n",
       "закусочная                                        1\n",
       "кафетерий                                         2\n",
       "ресторан                                          4\n",
       "кафе                                             17\n",
       "буфет                                            19\n",
       "столовая                                        211"
      ]
     },
     "execution_count": 16,
     "metadata": {},
     "output_type": "execute_result"
    }
   ],
   "source": [
    "RePhraseList = list()\n",
    "df['SocialPrivileges'] = df['SocialPrivileges'].replace(\"да\", 1)\n",
    "df['SocialPrivileges'] = df['SocialPrivileges'].replace(\"нет\", 0)\n",
    "df.groupby('TypeObject').agg('sum').sort_values('SocialPrivileges')[['SocialPrivileges']]"
   ]
  },
  {
   "cell_type": "code",
   "execution_count": 17,
   "id": "967fe827",
   "metadata": {},
   "outputs": [
    {
     "name": "stderr",
     "output_type": "stream",
     "text": [
      "C:\\Users\\zhash\\AppData\\Local\\Temp\\ipykernel_10004\\3828578434.py:3: FutureWarning: ['ID', 'Name', 'IsNetObject', 'OperatingCompany', 'AdmArea', 'District', 'Address', 'PublicPhone'] did not aggregate successfully. If any error is raised this will raise in a future version of pandas. Drop these columns/ops to avoid this warning.\n",
      "  stats = df.groupby('TypeObject').agg(['sum', perc])[[\"SocialPrivileges\"]]\n"
     ]
    },
    {
     "data": {
      "text/html": [
       "<div>\n",
       "<style scoped>\n",
       "    .dataframe tbody tr th:only-of-type {\n",
       "        vertical-align: middle;\n",
       "    }\n",
       "\n",
       "    .dataframe tbody tr th {\n",
       "        vertical-align: top;\n",
       "    }\n",
       "\n",
       "    .dataframe thead th {\n",
       "        text-align: right;\n",
       "    }\n",
       "</style>\n",
       "<table border=\"1\" class=\"dataframe\">\n",
       "  <thead>\n",
       "    <tr style=\"text-align: right;\">\n",
       "      <th></th>\n",
       "      <th>SocialPrivilegesCount</th>\n",
       "      <th>SocialPrivilegesPerc</th>\n",
       "    </tr>\n",
       "    <tr>\n",
       "      <th>TypeObject</th>\n",
       "      <th></th>\n",
       "      <th></th>\n",
       "    </tr>\n",
       "  </thead>\n",
       "  <tbody>\n",
       "    <tr>\n",
       "      <th>магазин (отдел кулинарии)</th>\n",
       "      <td>0</td>\n",
       "      <td>0.000000</td>\n",
       "    </tr>\n",
       "    <tr>\n",
       "      <th>предприятие быстрого обслуживания</th>\n",
       "      <td>0</td>\n",
       "      <td>0.000000</td>\n",
       "    </tr>\n",
       "    <tr>\n",
       "      <th>бар</th>\n",
       "      <td>1</td>\n",
       "      <td>0.392157</td>\n",
       "    </tr>\n",
       "    <tr>\n",
       "      <th>закусочная</th>\n",
       "      <td>1</td>\n",
       "      <td>0.392157</td>\n",
       "    </tr>\n",
       "    <tr>\n",
       "      <th>кафетерий</th>\n",
       "      <td>2</td>\n",
       "      <td>0.784314</td>\n",
       "    </tr>\n",
       "    <tr>\n",
       "      <th>ресторан</th>\n",
       "      <td>4</td>\n",
       "      <td>1.568627</td>\n",
       "    </tr>\n",
       "    <tr>\n",
       "      <th>кафе</th>\n",
       "      <td>17</td>\n",
       "      <td>6.666667</td>\n",
       "    </tr>\n",
       "    <tr>\n",
       "      <th>буфет</th>\n",
       "      <td>19</td>\n",
       "      <td>7.450980</td>\n",
       "    </tr>\n",
       "    <tr>\n",
       "      <th>столовая</th>\n",
       "      <td>211</td>\n",
       "      <td>82.745098</td>\n",
       "    </tr>\n",
       "  </tbody>\n",
       "</table>\n",
       "</div>"
      ],
      "text/plain": [
       "                                   SocialPrivilegesCount  SocialPrivilegesPerc\n",
       "TypeObject                                                                    \n",
       "магазин (отдел кулинарии)                              0              0.000000\n",
       "предприятие быстрого обслуживания                      0              0.000000\n",
       "бар                                                    1              0.392157\n",
       "закусочная                                             1              0.392157\n",
       "кафетерий                                              2              0.784314\n",
       "ресторан                                               4              1.568627\n",
       "кафе                                                  17              6.666667\n",
       "буфет                                                 19              7.450980\n",
       "столовая                                             211             82.745098"
      ]
     },
     "execution_count": 17,
     "metadata": {},
     "output_type": "execute_result"
    }
   ],
   "source": [
    "def perc(x):\n",
    "    return sum(x)/255*100\n",
    "stats = df.groupby('TypeObject').agg(['sum', perc])[[\"SocialPrivileges\"]]\n",
    "stats.columns = ['SocialPrivilegesCount', \"SocialPrivilegesPerc\"]\n",
    "labels = list()\n",
    "for i in range(len(stats['SocialPrivilegesPerc'])):\n",
    "    if stats['SocialPrivilegesCount'][i] == 0:\n",
    "        labels.append(\"\")\n",
    "    else:\n",
    "        labels.append(stats['SocialPrivilegesPerc'].index[i])\n",
    "stats.sort_values('SocialPrivilegesPerc')"
   ]
  },
  {
   "cell_type": "code",
   "execution_count": null,
   "id": "88205a2b",
   "metadata": {},
   "outputs": [],
   "source": []
  },
  {
   "cell_type": "code",
   "execution_count": 18,
   "id": "ad656728",
   "metadata": {},
   "outputs": [
    {
     "data": {
      "text/html": [
       "<div>\n",
       "<style scoped>\n",
       "    .dataframe tbody tr th:only-of-type {\n",
       "        vertical-align: middle;\n",
       "    }\n",
       "\n",
       "    .dataframe tbody tr th {\n",
       "        vertical-align: top;\n",
       "    }\n",
       "\n",
       "    .dataframe thead th {\n",
       "        text-align: right;\n",
       "    }\n",
       "</style>\n",
       "<table border=\"1\" class=\"dataframe\">\n",
       "  <thead>\n",
       "    <tr style=\"text-align: right;\">\n",
       "      <th></th>\n",
       "      <th>SeatsCount</th>\n",
       "    </tr>\n",
       "    <tr>\n",
       "      <th>TypeObject</th>\n",
       "      <th></th>\n",
       "    </tr>\n",
       "  </thead>\n",
       "  <tbody>\n",
       "    <tr>\n",
       "      <th>кафетерий</th>\n",
       "      <td>10.401925</td>\n",
       "    </tr>\n",
       "    <tr>\n",
       "      <th>магазин (отдел кулинарии)</th>\n",
       "      <td>11.689474</td>\n",
       "    </tr>\n",
       "    <tr>\n",
       "      <th>закусочная</th>\n",
       "      <td>12.000000</td>\n",
       "    </tr>\n",
       "    <tr>\n",
       "      <th>предприятие быстрого обслуживания</th>\n",
       "      <td>30.051539</td>\n",
       "    </tr>\n",
       "    <tr>\n",
       "      <th>кафе</th>\n",
       "      <td>34.241236</td>\n",
       "    </tr>\n",
       "    <tr>\n",
       "      <th>бар</th>\n",
       "      <td>36.956298</td>\n",
       "    </tr>\n",
       "    <tr>\n",
       "      <th>буфет</th>\n",
       "      <td>57.000000</td>\n",
       "    </tr>\n",
       "    <tr>\n",
       "      <th>ресторан</th>\n",
       "      <td>90.533947</td>\n",
       "    </tr>\n",
       "    <tr>\n",
       "      <th>столовая</th>\n",
       "      <td>131.375232</td>\n",
       "    </tr>\n",
       "  </tbody>\n",
       "</table>\n",
       "</div>"
      ],
      "text/plain": [
       "                                   SeatsCount\n",
       "TypeObject                                   \n",
       "кафетерий                           10.401925\n",
       "магазин (отдел кулинарии)           11.689474\n",
       "закусочная                          12.000000\n",
       "предприятие быстрого обслуживания   30.051539\n",
       "кафе                                34.241236\n",
       "бар                                 36.956298\n",
       "буфет                               57.000000\n",
       "ресторан                            90.533947\n",
       "столовая                           131.375232"
      ]
     },
     "execution_count": 18,
     "metadata": {},
     "output_type": "execute_result"
    }
   ],
   "source": [
    "RePhraseList = list()\n",
    "bar = df.groupby('TypeObject').agg('mean').sort_values('SeatsCount')[['SeatsCount']]\n",
    "names = list()\n",
    "for i in range(len(bar)):\n",
    "    names.append(bar.index[i])\n",
    "df.groupby('TypeObject').agg('mean').sort_values('SeatsCount')[['SeatsCount']]"
   ]
  },
  {
   "cell_type": "code",
   "execution_count": 19,
   "id": "b80f5b7a",
   "metadata": {},
   "outputs": [
    {
     "data": {
      "text/html": [
       "<div>\n",
       "<style scoped>\n",
       "    .dataframe tbody tr th:only-of-type {\n",
       "        vertical-align: middle;\n",
       "    }\n",
       "\n",
       "    .dataframe tbody tr th {\n",
       "        vertical-align: top;\n",
       "    }\n",
       "\n",
       "    .dataframe thead th {\n",
       "        text-align: right;\n",
       "    }\n",
       "</style>\n",
       "<table border=\"1\" class=\"dataframe\">\n",
       "  <thead>\n",
       "    <tr style=\"text-align: right;\">\n",
       "      <th></th>\n",
       "      <th>Кол-во заведений</th>\n",
       "      <th>Сумма посадочных мест</th>\n",
       "    </tr>\n",
       "    <tr>\n",
       "      <th>AdmArea</th>\n",
       "      <th></th>\n",
       "      <th></th>\n",
       "    </tr>\n",
       "  </thead>\n",
       "  <tbody>\n",
       "    <tr>\n",
       "      <th>Троицкий административный округ</th>\n",
       "      <td>139</td>\n",
       "      <td>5677</td>\n",
       "    </tr>\n",
       "    <tr>\n",
       "      <th>Новомосковский административный округ</th>\n",
       "      <td>534</td>\n",
       "      <td>14702</td>\n",
       "    </tr>\n",
       "    <tr>\n",
       "      <th>Зеленоградский административный округ</th>\n",
       "      <td>237</td>\n",
       "      <td>15943</td>\n",
       "    </tr>\n",
       "    <tr>\n",
       "      <th>Северо-Западный административный округ</th>\n",
       "      <td>679</td>\n",
       "      <td>42505</td>\n",
       "    </tr>\n",
       "    <tr>\n",
       "      <th>Юго-Восточный административный округ</th>\n",
       "      <td>962</td>\n",
       "      <td>53808</td>\n",
       "    </tr>\n",
       "    <tr>\n",
       "      <th>Северный административный округ</th>\n",
       "      <td>1291</td>\n",
       "      <td>64235</td>\n",
       "    </tr>\n",
       "    <tr>\n",
       "      <th>Юго-Западный административный округ</th>\n",
       "      <td>1195</td>\n",
       "      <td>65975</td>\n",
       "    </tr>\n",
       "    <tr>\n",
       "      <th>Восточный административный округ</th>\n",
       "      <td>1070</td>\n",
       "      <td>69710</td>\n",
       "    </tr>\n",
       "    <tr>\n",
       "      <th>Западный административный округ</th>\n",
       "      <td>1298</td>\n",
       "      <td>81149</td>\n",
       "    </tr>\n",
       "    <tr>\n",
       "      <th>Северо-Восточный административный округ</th>\n",
       "      <td>1285</td>\n",
       "      <td>82728</td>\n",
       "    </tr>\n",
       "    <tr>\n",
       "      <th>Южный административный округ</th>\n",
       "      <td>1527</td>\n",
       "      <td>92017</td>\n",
       "    </tr>\n",
       "    <tr>\n",
       "      <th>Центральный административный округ</th>\n",
       "      <td>4430</td>\n",
       "      <td>227231</td>\n",
       "    </tr>\n",
       "  </tbody>\n",
       "</table>\n",
       "</div>"
      ],
      "text/plain": [
       "                                         Кол-во заведений  \\\n",
       "AdmArea                                                     \n",
       "Троицкий административный округ                       139   \n",
       "Новомосковский административный округ                 534   \n",
       "Зеленоградский административный округ                 237   \n",
       "Северо-Западный административный округ                679   \n",
       "Юго-Восточный административный округ                  962   \n",
       "Северный административный округ                      1291   \n",
       "Юго-Западный административный округ                  1195   \n",
       "Восточный административный округ                     1070   \n",
       "Западный административный округ                      1298   \n",
       "Северо-Восточный административный округ              1285   \n",
       "Южный административный округ                         1527   \n",
       "Центральный административный округ                   4430   \n",
       "\n",
       "                                         Сумма посадочных мест  \n",
       "AdmArea                                                         \n",
       "Троицкий административный округ                           5677  \n",
       "Новомосковский административный округ                    14702  \n",
       "Зеленоградский административный округ                    15943  \n",
       "Северо-Западный административный округ                   42505  \n",
       "Юго-Восточный административный округ                     53808  \n",
       "Северный административный округ                          64235  \n",
       "Юго-Западный административный округ                      65975  \n",
       "Восточный административный округ                         69710  \n",
       "Западный административный округ                          81149  \n",
       "Северо-Восточный административный округ                  82728  \n",
       "Южный административный округ                             92017  \n",
       "Центральный административный округ                      227231  "
      ]
     },
     "execution_count": 19,
     "metadata": {},
     "output_type": "execute_result"
    }
   ],
   "source": [
    "places = df.groupby('AdmArea').agg(['count', 'sum'])[['SeatsCount']]\n",
    "places.columns = ['Кол-во заведений', 'Сумма посадочных мест']\n",
    "places.sort_values('Сумма посадочных мест')\n"
   ]
  },
  {
   "cell_type": "code",
   "execution_count": 20,
   "id": "a035123e",
   "metadata": {},
   "outputs": [
    {
     "data": {
      "text/plain": [
       "<AxesSubplot:xlabel='Кол-во заведений', ylabel='Сумма посадочных мест'>"
      ]
     },
     "execution_count": 20,
     "metadata": {},
     "output_type": "execute_result"
    },
    {
     "data": {
      "image/png": "[encoded data removed]",
      "text/plain": [
       "<Figure size 720x720 with 1 Axes>"
      ]
     },
     "metadata": {
      "needs_background": "light"
     },
     "output_type": "display_data"
    }
   ],
   "source": [
    "places.plot.scatter('Кол-во заведений', 'Сумма посадочных мест', figsize = (10, 10))\n",
    "#С помощью функции построения диаграмм у датафрейма"
   ]
  },
  {
   "cell_type": "code",
   "execution_count": 21,
   "id": "4be3efdc",
   "metadata": {},
   "outputs": [
    {
     "data": {
      "text/plain": [
       "<matplotlib.collections.PathCollection at 0x14b1cf54880>"
      ]
     },
     "execution_count": 21,
     "metadata": {},
     "output_type": "execute_result"
    },
    {
     "data": {
      "image/png": "[encoded data removed]",
      "text/plain": [
       "<Figure size 720x720 with 1 Axes>"
      ]
     },
     "metadata": {
      "needs_background": "light"
     },
     "output_type": "display_data"
    }
   ],
   "source": [
    "Fig, ax = plt.subplots(figsize = (10, 10))\n",
    "ax.set_xlabel(\"Кол-во заведений\")\n",
    "ax.set_ylabel(\"Сумма посадочных мест\")\n",
    "ax.scatter(x = places['Кол-во заведений'], y = places['Сумма посадочных мест'], s = 20)"
   ]
  },
  {
   "cell_type": "code",
   "execution_count": 52,
   "id": "454a638a",
   "metadata": {},
   "outputs": [
    {
     "data": {
      "text/plain": [
       "Text(0.5, 1.0, 'Кол-во социальных привелегий')"
      ]
     },
     "execution_count": 52,
     "metadata": {},
     "output_type": "execute_result"
    },
    {
     "data": {
      "image/png": "[encoded data removed]",
      "text/plain": [
       "<Figure size 720x720 with 1 Axes>"
      ]
     },
     "metadata": {},
     "output_type": "display_data"
    }
   ],
   "source": [
    "stats['SocialPrivilegesCount'].plot.pie(figsize = (10,10)).set_ylabel(\"\")\n",
    "plt.title('Кол-во социальных привелегий')"
   ]
  },
  {
   "cell_type": "code",
   "execution_count": 56,
   "id": "f41e94f9",
   "metadata": {},
   "outputs": [
    {
     "data": {
      "text/plain": [
       "Text(0.5, 1.0, 'Кол-во социальных привилегий')"
      ]
     },
     "execution_count": 56,
     "metadata": {},
     "output_type": "execute_result"
    },
    {
     "data": {
      "image/png": "[encoded data removed]",
      "text/plain": [
       "<Figure size 720x720 with 1 Axes>"
      ]
     },
     "metadata": {},
     "output_type": "display_data"
    }
   ],
   "source": [
    "fig, ax = plt.subplots(figsize = (10, 10))\n",
    "ax.pie(stats['SocialPrivilegesCount'], labels = labels)\n",
    "plt.title(\"Кол-во социальных привилегий\")"
   ]
  },
  {
   "cell_type": "code",
   "execution_count": 31,
   "id": "9647be56",
   "metadata": {},
   "outputs": [
    {
     "data": {
      "text/plain": [
       "Text(0, 0.5, 'Кол-во посадочных мест')"
      ]
     },
     "execution_count": 31,
     "metadata": {},
     "output_type": "execute_result"
    },
    {
     "data": {
      "image/png": "[encoded data removed]",
      "text/plain": [
       "<Figure size 720x720 with 1 Axes>"
      ]
     },
     "metadata": {
      "needs_background": "light"
     },
     "output_type": "display_data"
    }
   ],
   "source": [
    "z = bar['SeatsCount'].plot.bar(figsize = (10, 10))\n",
    "z.set_xlabel('Тип заведения')\n",
    "z.set_ylabel('Кол-во посадочных мест')"
   ]
  },
  {
   "cell_type": "code",
   "execution_count": 32,
   "id": "69085995",
   "metadata": {},
   "outputs": [
    {
     "data": {
      "image/png": "[encoded data removed]",
      "text/plain": [
       "<Figure size 720x720 with 1 Axes>"
      ]
     },
     "metadata": {
      "needs_background": "light"
     },
     "output_type": "display_data"
    }
   ],
   "source": [
    "fig, ax = plt.subplots(figsize = (10, 10))\n",
    "ax.bar(names, bar['SeatsCount'], width = 0.5)\n",
    "ax.set_xlabel('Тип заведения')\n",
    "ax.set_ylabel('Количество посадочных мест')\n",
    "fig.autofmt_xdate(rotation = 90)\n",
    "#plt.xticks(rotation = 90) ещё один способ, но выводится текст"
   ]
  },
  {
   "cell_type": "code",
   "execution_count": null,
   "id": "56c9e851",
   "metadata": {},
   "outputs": [],
   "source": []
  },
  {
   "cell_type": "code",
   "execution_count": null,
   "id": "055501d3",
   "metadata": {},
   "outputs": [],
   "source": []
  }
 ],
 "metadata": {
  "kernelspec": {
   "display_name": "Python 3 (ipykernel)",
   "language": "python",
   "name": "python3"
  },
  "language_info": {
   "codemirror_mode": {
    "name": "ipython",
    "version": 3
   },
   "file_extension": ".py",
   "mimetype": "text/x-python",
   "name": "python",
   "nbconvert_exporter": "python",
   "pygments_lexer": "ipython3",
   "version": "3.10.4"
  }
 },
 "nbformat": 4,
 "nbformat_minor": 5
}
